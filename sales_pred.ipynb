{
  "nbformat": 4,
  "nbformat_minor": 0,
  "metadata": {
    "colab": {
      "provenance": [],
      "authorship_tag": "ABX9TyMefpRCswHsjQf2ByVEosCD",
      "include_colab_link": true
    },
    "kernelspec": {
      "name": "python3",
      "display_name": "Python 3"
    },
    "language_info": {
      "name": "python"
    }
  },
  "cells": [
    {
      "cell_type": "markdown",
      "metadata": {
        "id": "view-in-github",
        "colab_type": "text"
      },
      "source": [
        "<a href=\"https://colab.research.google.com/github/Kashew765/Sales_pred_MLproject/blob/main/sales_pred.ipynb\" target=\"_parent\"><img src=\"https://colab.research.google.com/assets/colab-badge.svg\" alt=\"Open In Colab\"/></a>"
      ]
    },
    {
      "cell_type": "code",
      "execution_count": 6,
      "metadata": {
        "id": "7mYdMUTMlnKl"
      },
      "outputs": [],
      "source": [
        "import pandas as pd\n",
        "import numpy as np\n",
        "import matplotlib.pyplot as plt\n",
        "import seaborn as sns\n",
        "from sklearn.model_selection import train_test_split\n",
        "from sklearn.preprocessing import StandardScaler\n",
        "from sklearn.linear_model import LinearRegression\n",
        "from sklearn.metrics import mean_squared_error, r2_score\n",
        "\n",
        "df = pd.read_excel(\"/content/advertising_sales_data.xlsx\")"
      ]
    },
    {
      "cell_type": "markdown",
      "source": [
        "1. Average amount spent on TV advertising"
      ],
      "metadata": {
        "id": "zw845FHSmue5"
      }
    },
    {
      "cell_type": "code",
      "source": [
        "average_tv_spent = df[\"TV\"].mean()\n",
        "print(f\"Average TV Advertising Expenditure: ${average_tv_spent:.2f}\")"
      ],
      "metadata": {
        "colab": {
          "base_uri": "https://localhost:8080/"
        },
        "id": "drPCAg21mndi",
        "outputId": "f23dafd6-c948-423c-a45d-c9719a878725"
      },
      "execution_count": 7,
      "outputs": [
        {
          "output_type": "stream",
          "name": "stdout",
          "text": [
            "Average TV Advertising Expenditure: $147.04\n"
          ]
        }
      ]
    },
    {
      "cell_type": "markdown",
      "source": [
        " 2. Correlation between radio advertising expenditure and sales"
      ],
      "metadata": {
        "id": "cz0jXzYmm5RP"
      }
    },
    {
      "cell_type": "code",
      "source": [
        "radio_sales_corr = df[\"Radio\"].corr(df[\"Sales\"])\n",
        "print(f\"Correlation between Radio Advertising and Sales: {radio_sales_corr:.2f}\")"
      ],
      "metadata": {
        "colab": {
          "base_uri": "https://localhost:8080/"
        },
        "id": "kSY_mEwWmnq_",
        "outputId": "3c2285df-65f3-4c17-bb52-3410b034390e"
      },
      "execution_count": 8,
      "outputs": [
        {
          "output_type": "stream",
          "name": "stdout",
          "text": [
            "Correlation between Radio Advertising and Sales: 0.35\n"
          ]
        }
      ]
    },
    {
      "cell_type": "markdown",
      "source": [
        " 3. Identifying the advertising medium with the highest impact on sales"
      ],
      "metadata": {
        "id": "MblaDgGCm8Jb"
      }
    },
    {
      "cell_type": "code",
      "source": [
        "# Drop non-numeric columns before computing correlation\n",
        "df_numeric = df.select_dtypes(include=[np.number])\n",
        "\n",
        "correlations = df_numeric.corr()[\"Sales\"].drop(\"Sales\")\n",
        "highest_impact_medium = correlations.abs().idxmax()\n",
        "print(f\"Advertising medium with the highest impact on Sales: {highest_impact_medium}\")\n"
      ],
      "metadata": {
        "colab": {
          "base_uri": "https://localhost:8080/"
        },
        "id": "N9pp9p6cmn3t",
        "outputId": "a3c914a7-1199-45f3-9def-a4aeb86ca793"
      },
      "execution_count": 17,
      "outputs": [
        {
          "output_type": "stream",
          "name": "stdout",
          "text": [
            "Advertising medium with the highest impact on Sales: TV\n"
          ]
        }
      ]
    },
    {
      "cell_type": "markdown",
      "source": [
        "4. Linear Regression Model with all variables"
      ],
      "metadata": {
        "id": "rtY5s3F2nJAg"
      }
    },
    {
      "cell_type": "code",
      "source": [
        "# Drop non-numeric columns\n",
        "df_numeric = df.select_dtypes(include=[np.number])\n",
        "# Drop or fill missing values\n",
        "df_numeric = df_numeric.dropna()\n",
        "\n",
        "X = df_numeric[[\"TV\", \"Radio\", \"Newspaper\"]]\n",
        "y = df_numeric[\"Sales\"]\n",
        "\n",
        "X_train, X_test, y_train, y_test = train_test_split(X, y, test_size=0.2, random_state=42)\n",
        "model = LinearRegression()\n",
        "model.fit(X_train, y_train)\n",
        "y_pred = model.predict(X_test)\n",
        "plt.figure(figsize=(8, 6))\n",
        "sns.scatterplot(x=y_test, y=y_pred)\n",
        "plt.plot([y.min(), y.max()], [y.min(), y.max()], color='red', linestyle='--')\n",
        "plt.xlabel(\"Actual Sales\")\n",
        "plt.ylabel(\"Predicted Sales\")\n",
        "plt.title(\"Actual vs Predicted Sales\")\n",
        "plt.show()\n"
      ],
      "metadata": {
        "colab": {
          "base_uri": "https://localhost:8080/",
          "height": 519
        },
        "id": "0qS654cWmoH8",
        "outputId": "a6bc8a9b-a386-4497-e2a5-4fff2282d2a6"
      },
      "execution_count": 18,
      "outputs": [
        {
          "output_type": "display_data",
          "data": {
            "text/plain": [
              "<Figure size 800x600 with 1 Axes>"
            ],
            "image/png": "[encoded data removed]"
          },
          "metadata": {}
        }
      ]
    },
    {
      "cell_type": "markdown",
      "source": [
        "5. Predicting sales for new ad expenditures"
      ],
      "metadata": {
        "id": "5cIkdhzanXIU"
      }
    },
    {
      "cell_type": "code",
      "source": [
        "new_data = pd.DataFrame([[200, 40, 50]], columns=[\"TV\", \"Radio\", \"Newspaper\"])\n",
        "predicted_sales = model.predict(new_data)[0]\n",
        "print(f\"Predicted Sales for new expenditures: {predicted_sales:.2f}\")\n"
      ],
      "metadata": {
        "colab": {
          "base_uri": "https://localhost:8080/"
        },
        "id": "Sgqu-goTmo-S",
        "outputId": "1b26b60a-0a52-40bc-f47d-2f60d4b3f3dd"
      },
      "execution_count": 24,
      "outputs": [
        {
          "output_type": "stream",
          "name": "stdout",
          "text": [
            "Predicted Sales for new expenditures: 19.82\n"
          ]
        }
      ]
    },
    {
      "cell_type": "markdown",
      "source": [
        "6. Effect of normalization on model performance"
      ],
      "metadata": {
        "id": "wuV7myDCne6F"
      }
    },
    {
      "cell_type": "code",
      "source": [
        "scaler = StandardScaler()\n",
        "X_scaled = scaler.fit_transform(X)\n",
        "X_train_scaled, X_test_scaled, y_train, y_test = train_test_split(X_scaled, y, test_size=0.2, random_state=42)\n",
        "\n",
        "model_scaled = LinearRegression()\n",
        "model_scaled.fit(X_train_scaled, y_train)\n",
        "y_pred_scaled = model_scaled.predict(X_test_scaled)\n",
        "\n",
        "r2_original = r2_score(y_test, y_pred)\n",
        "r2_scaled = r2_score(y_test, y_pred_scaled)\n",
        "print(f\"R² Score without Normalization: {r2_original:.4f}\")\n",
        "print(f\"R² Score with Normalization: {r2_scaled:.4f}\")"
      ],
      "metadata": {
        "colab": {
          "base_uri": "https://localhost:8080/"
        },
        "id": "wafM1rsJmpM6",
        "outputId": "b5791a1e-91eb-43ad-d7a9-74545e60dd29"
      },
      "execution_count": 20,
      "outputs": [
        {
          "output_type": "stream",
          "name": "stdout",
          "text": [
            "R² Score without Normalization: 0.8991\n",
            "R² Score with Normalization: 0.8991\n"
          ]
        }
      ]
    },
    {
      "cell_type": "markdown",
      "source": [
        "7. Impact of using only Radio and Newspaper as predictors"
      ],
      "metadata": {
        "id": "fSgoXz4onfaO"
      }
    },
    {
      "cell_type": "code",
      "source": [
        "# Drop non-numeric columns\n",
        "df_numeric = df.select_dtypes(include=[np.number])\n",
        "\n",
        "# Drop or fill missing values to ensure X and y have the same length\n",
        "df_numeric = df_numeric.dropna()\n",
        "\n",
        "X_reduced = df_numeric[[\"Radio\", \"Newspaper\"]]\n",
        "y = df_numeric[\"Sales\"]\n",
        "assert len(X_reduced) == len(y), \"Mismatch in sample sizes between X and y.\"\n",
        "X_train_red, X_test_red, y_train_red, y_test_red = train_test_split(X_reduced, y, test_size=0.2, random_state=42)\n",
        "model_reduced = LinearRegression()\n",
        "model_reduced.fit(X_train_red, y_train_red)\n",
        "y_pred_red = model_reduced.predict(X_test_red)\n",
        "r2_radio_newspaper = r2_score(y_test_red, y_pred_red)\n",
        "print(f\"R-squared using only Radio and Newspaper: {r2_radio_newspaper:.4f}\")\n"
      ],
      "metadata": {
        "colab": {
          "base_uri": "https://localhost:8080/"
        },
        "id": "Y0HJ5ZzLmpbw",
        "outputId": "234ca630-e495-4d9e-acd7-3613fd08a611"
      },
      "execution_count": 22,
      "outputs": [
        {
          "output_type": "stream",
          "name": "stdout",
          "text": [
            "R-squared using only Radio and Newspaper: -0.0519\n"
          ]
        }
      ]
    }
  ]
}